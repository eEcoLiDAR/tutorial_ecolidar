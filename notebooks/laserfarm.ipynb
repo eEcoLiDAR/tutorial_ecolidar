{
 "cells": [
  {
   "cell_type": "markdown",
   "metadata": {},
   "source": [
    "# Lidar pointcloud analysis using laserfarm\n",
    "\n",
    "In this tutorial, we demonstrate an example of analysing AHN3 pointcloud data using the `laserfarm` package.\n",
    "\n",
    "Laserfarm (Laserchicken Framework for Applications in Research in Macro-ecology) provides a FOSS wrapper to Laserchicken supporting the use of massive LiDAR point cloud data sets for macro-ecology, from data preparation to scheduling and execution of distributed processing across a cluster of compute nodes."
   ]
  },
  {
   "cell_type": "markdown",
   "metadata": {},
   "source": [
    "### The dataset\n",
    "\n",
    "AHN (Actueel Hoogtebestand Nederland) is a digtal height dataset of the Netherlands, measured with laser altimetry. The [AHN3](https://www.pdok.nl/introductie/-/article/actueel-hoogtebestand-nederland-ahn3-) dataset, which is used in this tutorial, is the third update of this dataset. \n",
    "\n",
    "AHN3 is a public dataset and is free from copyright restrictions. Please refer to [this link](https://data.overheid.nl/en/dataset/11513-actueel-hoogtebestand-nederland-3--ahn3-) for the license status of AHN3."
   ]
  },
  {
   "cell_type": "code",
   "execution_count": 1,
   "metadata": {},
   "outputs": [],
   "source": [
    "import json\n",
    "import os\n",
    "import pathlib\n",
    "                    \n",
    "from dask.distributed import LocalCluster\n",
    "from laserfarm import Retiler, DataProcessing, GeotiffWriter, MacroPipeline"
   ]
  },
  {
   "cell_type": "markdown",
   "metadata": {},
   "source": [
    "## Setup a Dask cluster\n",
    "\n",
    "In this tutorial, we will use a Dask cluster for all the macro-pipeline calculations."
   ]
  },
  {
   "cell_type": "code",
   "execution_count": 2,
   "metadata": {},
   "outputs": [
    {
     "data": {
      "text/html": [
       "\n",
       "            <div class=\"jp-RenderedHTMLCommon jp-RenderedHTML jp-mod-trusted jp-OutputArea-output\">\n",
       "                <div style=\"\n",
       "                    width: 24px;\n",
       "                    height: 24px;\n",
       "                    background-color: #e1e1e1;\n",
       "                    border: 3px solid #9D9D9D;\n",
       "                    border-radius: 5px;\n",
       "                    position: absolute;\"> </div>\n",
       "                <div style=\"margin-left: 48px;\">\n",
       "                    <h3 style=\"margin-bottom: 0px; margin-top: 0px;\">LocalCluster</h3>\n",
       "                    <p style=\"color: #9D9D9D; margin-bottom: 0px;\">02595308</p>\n",
       "                    <table style=\"width: 100%; text-align: left;\">\n",
       "                    \n",
       "            <tr>\n",
       "                <td style=\"text-align: left;\"><strong>Status:</strong> running</td>\n",
       "                <td style=\"text-align: left;\"><strong>Using processes:</strong> True</td>\n",
       "            </tr>\n",
       "        \n",
       "            <tr>\n",
       "                <td style=\"text-align: left;\">\n",
       "                    <strong>Dashboard:</strong> <a href=\"http://127.0.0.1:8787/status\">http://127.0.0.1:8787/status</a>\n",
       "                </td>\n",
       "                <td style=\"text-align: left;\"><strong>Workers:</strong> 2</td>\n",
       "            </tr>\n",
       "            <tr>\n",
       "                <td style=\"text-align: left;\">\n",
       "                    <strong>Total threads:</strong>\n",
       "                    2\n",
       "                </td>\n",
       "                <td style=\"text-align: left;\">\n",
       "                    <strong>Total memory:</strong>\n",
       "                    7.66 GiB\n",
       "                </td>\n",
       "            </tr>\n",
       "        \n",
       "                    </table>\n",
       "                    <details>\n",
       "                    <summary style=\"margin-bottom: 20px;\"><h3 style=\"display: inline;\">Scheduler Info</h3></summary>\n",
       "                    \n",
       "        <div style=\"\">\n",
       "            \n",
       "            <div>\n",
       "                <div style=\"\n",
       "                    width: 24px;\n",
       "                    height: 24px;\n",
       "                    background-color: #FFF7E5;\n",
       "                    border: 3px solid #FF6132;\n",
       "                    border-radius: 5px;\n",
       "                    position: absolute;\"> </div>\n",
       "                <div style=\"margin-left: 48px;\">\n",
       "                    <h3 style=\"margin-bottom: 0px;\">Scheduler</h3>\n",
       "                    <p style=\"color: #9D9D9D; margin-bottom: 0px;\">Scheduler-bfb54d4c-3139-44e2-aa14-ff922d499c8a</p>\n",
       "                    <table style=\"width: 100%; text-align: left;\">\n",
       "                        <tr>\n",
       "                            <td style=\"text-align: left;\"><strong>Comm:</strong> tcp://127.0.0.1:35707</td>\n",
       "                            <td style=\"text-align: left;\"><strong>Workers:</strong> 2</td>\n",
       "                        </tr>\n",
       "                        <tr>\n",
       "                            <td style=\"text-align: left;\">\n",
       "                                <strong>Dashboard:</strong> <a href=\"http://127.0.0.1:8787/status\">http://127.0.0.1:8787/status</a>\n",
       "                            </td>\n",
       "                            <td style=\"text-align: left;\">\n",
       "                                <strong>Total threads:</strong>\n",
       "                                2\n",
       "                            </td>\n",
       "                        </tr>\n",
       "                        <tr>\n",
       "                            <td style=\"text-align: left;\">\n",
       "                                <strong>Started:</strong>\n",
       "                                Just now\n",
       "                            </td>\n",
       "                            <td style=\"text-align: left;\">\n",
       "                                <strong>Total memory:</strong>\n",
       "                                7.66 GiB\n",
       "                            </td>\n",
       "                        </tr>\n",
       "                    </table>\n",
       "                </div>\n",
       "            </div>\n",
       "        \n",
       "            <details style=\"margin-left: 48px;\">\n",
       "            <summary style=\"margin-bottom: 20px;\"><h3 style=\"display: inline;\">Workers</h3></summary>\n",
       "            \n",
       "            <div style=\"margin-bottom: 20px;\">\n",
       "                <div style=\"width: 24px;\n",
       "                            height: 24px;\n",
       "                            background-color: #DBF5FF;\n",
       "                            border: 3px solid #4CC9FF;\n",
       "                            border-radius: 5px;\n",
       "                            position: absolute;\"> </div>\n",
       "                <div style=\"margin-left: 48px;\">\n",
       "                <details>\n",
       "                    <summary>\n",
       "                        <h4 style=\"margin-bottom: 0px; display: inline;\">Worker: 0</h4>\n",
       "                    </summary>\n",
       "                    <table style=\"width: 100%; text-align: left;\">\n",
       "                        <tr>\n",
       "                            <td style=\"text-align: left;\"><strong>Comm: </strong> tcp://127.0.0.1:41007</td>\n",
       "                            <td style=\"text-align: left;\"><strong>Total threads: </strong> 1</td>\n",
       "                        </tr>\n",
       "                        <tr>\n",
       "                            <td style=\"text-align: left;\">\n",
       "                                <strong>Dashboard: </strong>\n",
       "                                <a href=\"http://127.0.0.1:44123/status\">http://127.0.0.1:44123/status</a>\n",
       "                            </td>\n",
       "                            <td style=\"text-align: left;\">\n",
       "                                <strong>Memory: </strong>\n",
       "                                3.83 GiB\n",
       "                            </td>\n",
       "                        </tr>\n",
       "                        <tr>\n",
       "                            <td style=\"text-align: left;\"><strong>Nanny: </strong> tcp://127.0.0.1:41525</td>\n",
       "                            <td style=\"text-align: left;\"></td>\n",
       "                        </tr>\n",
       "                        <tr>\n",
       "                            <td colspan=\"2\" style=\"text-align: left;\">\n",
       "                                <strong>Local directory: </strong>\n",
       "                                /mnt/c/Users/OuKu/Developments/eEcolidar/tutorial_ecolidar/notebooks/tmp/dask-worker-space/dask-worker-space/worker-6rgmmmrp\n",
       "                            </td>\n",
       "                        </tr>\n",
       "                        \n",
       "                        \n",
       "                    </table>\n",
       "                </details>\n",
       "                </div>\n",
       "            </div>\n",
       "            \n",
       "            <div style=\"margin-bottom: 20px;\">\n",
       "                <div style=\"width: 24px;\n",
       "                            height: 24px;\n",
       "                            background-color: #DBF5FF;\n",
       "                            border: 3px solid #4CC9FF;\n",
       "                            border-radius: 5px;\n",
       "                            position: absolute;\"> </div>\n",
       "                <div style=\"margin-left: 48px;\">\n",
       "                <details>\n",
       "                    <summary>\n",
       "                        <h4 style=\"margin-bottom: 0px; display: inline;\">Worker: 1</h4>\n",
       "                    </summary>\n",
       "                    <table style=\"width: 100%; text-align: left;\">\n",
       "                        <tr>\n",
       "                            <td style=\"text-align: left;\"><strong>Comm: </strong> tcp://127.0.0.1:33469</td>\n",
       "                            <td style=\"text-align: left;\"><strong>Total threads: </strong> 1</td>\n",
       "                        </tr>\n",
       "                        <tr>\n",
       "                            <td style=\"text-align: left;\">\n",
       "                                <strong>Dashboard: </strong>\n",
       "                                <a href=\"http://127.0.0.1:38633/status\">http://127.0.0.1:38633/status</a>\n",
       "                            </td>\n",
       "                            <td style=\"text-align: left;\">\n",
       "                                <strong>Memory: </strong>\n",
       "                                3.83 GiB\n",
       "                            </td>\n",
       "                        </tr>\n",
       "                        <tr>\n",
       "                            <td style=\"text-align: left;\"><strong>Nanny: </strong> tcp://127.0.0.1:32855</td>\n",
       "                            <td style=\"text-align: left;\"></td>\n",
       "                        </tr>\n",
       "                        <tr>\n",
       "                            <td colspan=\"2\" style=\"text-align: left;\">\n",
       "                                <strong>Local directory: </strong>\n",
       "                                /mnt/c/Users/OuKu/Developments/eEcolidar/tutorial_ecolidar/notebooks/tmp/dask-worker-space/dask-worker-space/worker-kybnirme\n",
       "                            </td>\n",
       "                        </tr>\n",
       "                        \n",
       "                        \n",
       "                    </table>\n",
       "                </details>\n",
       "                </div>\n",
       "            </div>\n",
       "            \n",
       "            </details>\n",
       "        </div>\n",
       "        \n",
       "                    </details>\n",
       "                </div>\n",
       "            </div>\n",
       "        "
      ],
      "text/plain": [
       "LocalCluster(02595308, 'tcp://127.0.0.1:35707', workers=2, threads=2, memory=7.66 GiB)"
      ]
     },
     "metadata": {},
     "output_type": "display_data"
    }
   ],
   "source": [
    "local_tmp = pathlib.Path('./tmp')\n",
    "cluster = LocalCluster(processes=True, \n",
    "                       n_workers=2, \n",
    "                       threads_per_worker=1, \n",
    "                       local_directory=local_tmp/'dask-worker-space')\n",
    "\n",
    "cluster"
   ]
  },
  {
   "cell_type": "markdown",
   "metadata": {},
   "source": [
    "## Step1: Retiling\n",
    "The first step in the pipeline is to retile the point-cloud files to a regular grid, splitting the original data into smaller chuncks that are easier to handle for data processing.\n",
    "\n",
    "First we will set the relavant path of this step:"
   ]
  },
  {
   "cell_type": "code",
   "execution_count": 3,
   "metadata": {},
   "outputs": [],
   "source": [
    "# Path to the input AHN3 data\n",
    "path_ahn = pathlib.Path('../data/')\n",
    "\n",
    "# Set the output path\n",
    "path_retiled = pathlib.Path('./retiling/retiling_out/')"
   ]
  },
  {
   "cell_type": "markdown",
   "metadata": {},
   "source": [
    "Then we will set the boundaries of the grid and the number of tiles along each axis. Here we give RD coordinates of the data of interest. \n",
    "\n",
    "Here we set the `n_tiles_side` to 2, then 2x2=4 tiles will be created. Note that if the grid boundaries are within the actual dataset, extra tiles outside the boundary will be created."
   ]
  },
  {
   "cell_type": "code",
   "execution_count": 4,
   "metadata": {},
   "outputs": [],
   "source": [
    "# Define the retiling grid\n",
    "grid = {\n",
    "    'min_x': 88500,\n",
    "    'max_x': 88800,\n",
    "    'min_y': 458400,\n",
    "    'max_y': 458700,\n",
    "    'n_tiles_side': 2\n",
    "}"
   ]
  },
  {
   "cell_type": "markdown",
   "metadata": {},
   "source": [
    "Now we set up a dictionary defining the configuration of the retiling step. There are four substeps here:\n",
    "\n",
    "- setup_local_fs: specify the local file paths\n",
    "- set_grid: set the retiling grid\n",
    "- split_and_redistribute: split the pointcloud file in the data directory with given grid\n",
    "- validate: Validate the produced output by checking consistency in the number\n",
    "        of input and output points"
   ]
  },
  {
   "cell_type": "code",
   "execution_count": 5,
   "metadata": {},
   "outputs": [],
   "source": [
    "# setup input dictionary to configure the retiling pipeline\n",
    "retiling_input = {\n",
    "    'setup_local_fs': {'tmp_folder': local_tmp.as_posix(),\n",
    "                       'input_folder': path_ahn.as_posix(),\n",
    "                       'output_folder': path_retiled.as_posix()},\n",
    "    'set_grid': grid,\n",
    "    'split_and_redistribute': {},\n",
    "    'validate': {}\n",
    "}"
   ]
  },
  {
   "cell_type": "markdown",
   "metadata": {},
   "source": [
    "Now we will setup the pipeline for the retiling step. Essentialy, for every input data file in `path_ahn`,  we will initiate a `Retiler` object and configure with `retiling_input`. The `Retiler` objects forms the tasks of the pipeline. The processing then can be distributed to the given cluster. \n"
   ]
  },
  {
   "cell_type": "code",
   "execution_count": 6,
   "metadata": {},
   "outputs": [
    {
     "name": "stdout",
     "output_type": "stream",
     "text": [
      "Retrieve and retile: 2 LAZ files\n"
     ]
    }
   ],
   "source": [
    "# Intiate the pipline\n",
    "retiling_macro = MacroPipeline()\n",
    "\n",
    "# Get the pointcloud data files\n",
    "data_files =  [f for f in path_ahn.iterdir()]\n",
    "print('Retrieve and retile: {} LAZ files'.format(len(data_files)))\n",
    "\n",
    "# Initialize Retiler per input data file, and configure. \n",
    "# Add Retiler list to macro-pipeline tasks\n",
    "retiling_macro.tasks = [Retiler(file).config(retiling_input) for file in data_files]\n",
    "\n",
    "# Set the corresponding labels\n",
    "retiling_macro.set_labels([os.path.splitext(file)[0] for file in data_files])\n",
    "\n",
    "# Set the cluster for distributing processing\n",
    "retiling_macro.setup_cluster(cluster=cluster)"
   ]
  },
  {
   "cell_type": "markdown",
   "metadata": {},
   "source": [
    "Then we can execute the pipeline, and print the outcome."
   ]
  },
  {
   "cell_type": "code",
   "execution_count": 7,
   "metadata": {},
   "outputs": [
    {
     "name": "stdout",
     "output_type": "stream",
     "text": [
      "001 ../data/AHN3                   finished\n",
      "002 ../data/AHN3                   error: RuntimeError, Cannot determine reader for input file: ../data/../data/AHN3.log\n"
     ]
    }
   ],
   "source": [
    "# run! \n",
    "retiling_macro.run()\n",
    "retiling_macro.print_outcome()"
   ]
  },
  {
   "cell_type": "markdown",
   "metadata": {},
   "source": [
    "Also, we can check the output directory and see what files are generated"
   ]
  },
  {
   "cell_type": "code",
   "execution_count": 8,
   "metadata": {},
   "outputs": [
    {
     "data": {
      "text/plain": [
       "[PosixPath('retiling/retiling_out/AHN3_retile_record.js'),\n",
       " PosixPath('retiling/retiling_out/tile_0_0/AHN3_1.las'),\n",
       " PosixPath('retiling/retiling_out/tile_0_1/AHN3_3.las'),\n",
       " PosixPath('retiling/retiling_out/tile_1_0/AHN3_2.las'),\n",
       " PosixPath('retiling/retiling_out/tile_1_1/AHN3_4.las')]"
      ]
     },
     "execution_count": 8,
     "metadata": {},
     "output_type": "execute_result"
    }
   ],
   "source": [
    "[f for f in path_retiled.rglob('*') if f.is_file()]"
   ]
  },
  {
   "cell_type": "markdown",
   "metadata": {},
   "source": [
    "## Step 2: Feature Extraction\n",
    "\n",
    "By retiling the original files to smaller tiles, we prepared the processing easier for distribution. Now, for a better understading of the poincloud, we need to investigate the common characters of multiple points within a certain range. \n",
    "\n",
    "To do this, we devide the poincloud into volumes. Within each volume, various statistics are computed to represent the volume. These statistics are referred as \"features\". In each volume, the derived features are assigned to an artificial point representing the volume, which is referred as the \"target point\".  \n",
    "\n",
    "The build-in features can be extracted from `laserchicken`:"
   ]
  },
  {
   "cell_type": "code",
   "execution_count": 9,
   "metadata": {},
   "outputs": [
    {
     "data": {
      "text/plain": [
       "['band_ratio_1<normalized_height<2',\n",
       " 'band_ratio_2<normalized_height<3',\n",
       " 'band_ratio_3<normalized_height',\n",
       " 'band_ratio_normalized_height<1',\n",
       " 'coeff_var_intensity',\n",
       " 'coeff_var_normalized_height',\n",
       " 'coeff_var_z',\n",
       " 'density_absolute_mean_normalized_height',\n",
       " 'density_absolute_mean_z',\n",
       " 'echo_ratio',\n",
       " 'eigenv_1',\n",
       " 'eigenv_2',\n",
       " 'eigenv_3',\n",
       " 'entropy_normalized_height',\n",
       " 'entropy_z',\n",
       " 'kurto_normalized_height',\n",
       " 'kurto_z',\n",
       " 'max_intensity',\n",
       " 'max_normalized_height',\n",
       " 'max_z',\n",
       " 'mean_intensity',\n",
       " 'mean_normalized_height',\n",
       " 'mean_z',\n",
       " 'median_normalized_height',\n",
       " 'median_z',\n",
       " 'min_intensity',\n",
       " 'min_normalized_height',\n",
       " 'min_z',\n",
       " 'normal_vector_1',\n",
       " 'normal_vector_2',\n",
       " 'normal_vector_3',\n",
       " 'perc_100_normalized_height',\n",
       " 'perc_100_z',\n",
       " 'perc_10_normalized_height',\n",
       " 'perc_10_z',\n",
       " 'perc_11_normalized_height',\n",
       " 'perc_11_z',\n",
       " 'perc_12_normalized_height',\n",
       " 'perc_12_z',\n",
       " 'perc_13_normalized_height',\n",
       " 'perc_13_z',\n",
       " 'perc_14_normalized_height',\n",
       " 'perc_14_z',\n",
       " 'perc_15_normalized_height',\n",
       " 'perc_15_z',\n",
       " 'perc_16_normalized_height',\n",
       " 'perc_16_z',\n",
       " 'perc_17_normalized_height',\n",
       " 'perc_17_z',\n",
       " 'perc_18_normalized_height',\n",
       " 'perc_18_z',\n",
       " 'perc_19_normalized_height',\n",
       " 'perc_19_z',\n",
       " 'perc_1_normalized_height',\n",
       " 'perc_1_z',\n",
       " 'perc_20_normalized_height',\n",
       " 'perc_20_z',\n",
       " 'perc_21_normalized_height',\n",
       " 'perc_21_z',\n",
       " 'perc_22_normalized_height',\n",
       " 'perc_22_z',\n",
       " 'perc_23_normalized_height',\n",
       " 'perc_23_z',\n",
       " 'perc_24_normalized_height',\n",
       " 'perc_24_z',\n",
       " 'perc_25_normalized_height',\n",
       " 'perc_25_z',\n",
       " 'perc_26_normalized_height',\n",
       " 'perc_26_z',\n",
       " 'perc_27_normalized_height',\n",
       " 'perc_27_z',\n",
       " 'perc_28_normalized_height',\n",
       " 'perc_28_z',\n",
       " 'perc_29_normalized_height',\n",
       " 'perc_29_z',\n",
       " 'perc_2_normalized_height',\n",
       " 'perc_2_z',\n",
       " 'perc_30_normalized_height',\n",
       " 'perc_30_z',\n",
       " 'perc_31_normalized_height',\n",
       " 'perc_31_z',\n",
       " 'perc_32_normalized_height',\n",
       " 'perc_32_z',\n",
       " 'perc_33_normalized_height',\n",
       " 'perc_33_z',\n",
       " 'perc_34_normalized_height',\n",
       " 'perc_34_z',\n",
       " 'perc_35_normalized_height',\n",
       " 'perc_35_z',\n",
       " 'perc_36_normalized_height',\n",
       " 'perc_36_z',\n",
       " 'perc_37_normalized_height',\n",
       " 'perc_37_z',\n",
       " 'perc_38_normalized_height',\n",
       " 'perc_38_z',\n",
       " 'perc_39_normalized_height',\n",
       " 'perc_39_z',\n",
       " 'perc_3_normalized_height',\n",
       " 'perc_3_z',\n",
       " 'perc_40_normalized_height',\n",
       " 'perc_40_z',\n",
       " 'perc_41_normalized_height',\n",
       " 'perc_41_z',\n",
       " 'perc_42_normalized_height',\n",
       " 'perc_42_z',\n",
       " 'perc_43_normalized_height',\n",
       " 'perc_43_z',\n",
       " 'perc_44_normalized_height',\n",
       " 'perc_44_z',\n",
       " 'perc_45_normalized_height',\n",
       " 'perc_45_z',\n",
       " 'perc_46_normalized_height',\n",
       " 'perc_46_z',\n",
       " 'perc_47_normalized_height',\n",
       " 'perc_47_z',\n",
       " 'perc_48_normalized_height',\n",
       " 'perc_48_z',\n",
       " 'perc_49_normalized_height',\n",
       " 'perc_49_z',\n",
       " 'perc_4_normalized_height',\n",
       " 'perc_4_z',\n",
       " 'perc_50_normalized_height',\n",
       " 'perc_50_z',\n",
       " 'perc_51_normalized_height',\n",
       " 'perc_51_z',\n",
       " 'perc_52_normalized_height',\n",
       " 'perc_52_z',\n",
       " 'perc_53_normalized_height',\n",
       " 'perc_53_z',\n",
       " 'perc_54_normalized_height',\n",
       " 'perc_54_z',\n",
       " 'perc_55_normalized_height',\n",
       " 'perc_55_z',\n",
       " 'perc_56_normalized_height',\n",
       " 'perc_56_z',\n",
       " 'perc_57_normalized_height',\n",
       " 'perc_57_z',\n",
       " 'perc_58_normalized_height',\n",
       " 'perc_58_z',\n",
       " 'perc_59_normalized_height',\n",
       " 'perc_59_z',\n",
       " 'perc_5_normalized_height',\n",
       " 'perc_5_z',\n",
       " 'perc_60_normalized_height',\n",
       " 'perc_60_z',\n",
       " 'perc_61_normalized_height',\n",
       " 'perc_61_z',\n",
       " 'perc_62_normalized_height',\n",
       " 'perc_62_z',\n",
       " 'perc_63_normalized_height',\n",
       " 'perc_63_z',\n",
       " 'perc_64_normalized_height',\n",
       " 'perc_64_z',\n",
       " 'perc_65_normalized_height',\n",
       " 'perc_65_z',\n",
       " 'perc_66_normalized_height',\n",
       " 'perc_66_z',\n",
       " 'perc_67_normalized_height',\n",
       " 'perc_67_z',\n",
       " 'perc_68_normalized_height',\n",
       " 'perc_68_z',\n",
       " 'perc_69_normalized_height',\n",
       " 'perc_69_z',\n",
       " 'perc_6_normalized_height',\n",
       " 'perc_6_z',\n",
       " 'perc_70_normalized_height',\n",
       " 'perc_70_z',\n",
       " 'perc_71_normalized_height',\n",
       " 'perc_71_z',\n",
       " 'perc_72_normalized_height',\n",
       " 'perc_72_z',\n",
       " 'perc_73_normalized_height',\n",
       " 'perc_73_z',\n",
       " 'perc_74_normalized_height',\n",
       " 'perc_74_z',\n",
       " 'perc_75_normalized_height',\n",
       " 'perc_75_z',\n",
       " 'perc_76_normalized_height',\n",
       " 'perc_76_z',\n",
       " 'perc_77_normalized_height',\n",
       " 'perc_77_z',\n",
       " 'perc_78_normalized_height',\n",
       " 'perc_78_z',\n",
       " 'perc_79_normalized_height',\n",
       " 'perc_79_z',\n",
       " 'perc_7_normalized_height',\n",
       " 'perc_7_z',\n",
       " 'perc_80_normalized_height',\n",
       " 'perc_80_z',\n",
       " 'perc_81_normalized_height',\n",
       " 'perc_81_z',\n",
       " 'perc_82_normalized_height',\n",
       " 'perc_82_z',\n",
       " 'perc_83_normalized_height',\n",
       " 'perc_83_z',\n",
       " 'perc_84_normalized_height',\n",
       " 'perc_84_z',\n",
       " 'perc_85_normalized_height',\n",
       " 'perc_85_z',\n",
       " 'perc_86_normalized_height',\n",
       " 'perc_86_z',\n",
       " 'perc_87_normalized_height',\n",
       " 'perc_87_z',\n",
       " 'perc_88_normalized_height',\n",
       " 'perc_88_z',\n",
       " 'perc_89_normalized_height',\n",
       " 'perc_89_z',\n",
       " 'perc_8_normalized_height',\n",
       " 'perc_8_z',\n",
       " 'perc_90_normalized_height',\n",
       " 'perc_90_z',\n",
       " 'perc_91_normalized_height',\n",
       " 'perc_91_z',\n",
       " 'perc_92_normalized_height',\n",
       " 'perc_92_z',\n",
       " 'perc_93_normalized_height',\n",
       " 'perc_93_z',\n",
       " 'perc_94_normalized_height',\n",
       " 'perc_94_z',\n",
       " 'perc_95_normalized_height',\n",
       " 'perc_95_z',\n",
       " 'perc_96_normalized_height',\n",
       " 'perc_96_z',\n",
       " 'perc_97_normalized_height',\n",
       " 'perc_97_z',\n",
       " 'perc_98_normalized_height',\n",
       " 'perc_98_z',\n",
       " 'perc_99_normalized_height',\n",
       " 'perc_99_z',\n",
       " 'perc_9_normalized_height',\n",
       " 'perc_9_z',\n",
       " 'point_density',\n",
       " 'pulse_penetration_ratio',\n",
       " 'range_intensity',\n",
       " 'range_normalized_height',\n",
       " 'range_z',\n",
       " 'sigma_z',\n",
       " 'skew_normalized_height',\n",
       " 'skew_z',\n",
       " 'slope',\n",
       " 'std_intensity',\n",
       " 'std_normalized_height',\n",
       " 'std_z',\n",
       " 'var_normalized_height',\n",
       " 'var_z']"
      ]
     },
     "execution_count": 9,
     "metadata": {},
     "output_type": "execute_result"
    }
   ],
   "source": [
    "from laserchicken.feature_extractor.feature_extraction import list_feature_names\n",
    "sorted(list_feature_names())"
   ]
  },
  {
   "cell_type": "markdown",
   "metadata": {},
   "source": [
    "In this tutorial, we will compute fourt features within 10m meshgrid. "
   ]
  },
  {
   "cell_type": "code",
   "execution_count": 10,
   "metadata": {},
   "outputs": [],
   "source": [
    "# target mesh size & list of features\n",
    "tile_mesh_size = 10.\n",
    "features = ['perc_95_normalized_height', \n",
    "            'pulse_penetration_ratio', \n",
    "            'entropy_normalized_height', \n",
    "            'point_density']\n",
    "\n",
    "# Ouput path of the target points\n",
    "path_targets = pathlib.Path('./feature_extraction/targets/')"
   ]
  },
  {
   "cell_type": "markdown",
   "metadata": {},
   "source": [
    "The input of feature extraction\n",
    "\n",
    "As the previous step, we set up a dictionary configuring of the feature extraction step. There are seven substeps here:\n",
    "\n",
    "- setup_local_fs: specify the local file paths\n",
    "- load: load retiled data\n",
    "- normalize: Normalize point cloud heights.\n",
    "- generate_targets: generates target points\n",
    "- extract_features: compute the features \n",
    "- export_targets: export target points into files\n",
    "- clear_cache: cache cleaning"
   ]
  },
  {
   "cell_type": "code",
   "execution_count": 11,
   "metadata": {},
   "outputs": [],
   "source": [
    "feature_extraction_input = {\n",
    "    'setup_local_fs': {\n",
    "        'input_folder': path_retiled.as_posix(),\n",
    "        'output_folder': path_targets.as_posix()\n",
    "    },\n",
    "    'load': {},\n",
    "    'normalize': {\n",
    "        'cell_size': 1\n",
    "    },\n",
    "    'generate_targets': {\n",
    "        'tile_mesh_size' : 10.0,\n",
    "        'validate' : True,\n",
    "        'validate_precision': 1.e-3,\n",
    "        **grid\n",
    "    },\n",
    "    'extract_features': {\n",
    "        'feature_names': features,\n",
    "        'volume_type': 'cell',\n",
    "        'volume_size': 10\n",
    "    },\n",
    "    'export_targets': {\n",
    "        'attributes': features,\n",
    "        'multi_band_files': False\n",
    "    },\n",
    "    'clear_cache': {}\n",
    "}"
   ]
  },
  {
   "cell_type": "markdown",
   "metadata": {},
   "source": [
    "Then we initialize a feature extraction pipeline and run."
   ]
  },
  {
   "cell_type": "code",
   "execution_count": 12,
   "metadata": {},
   "outputs": [
    {
     "name": "stdout",
     "output_type": "stream",
     "text": [
      "Retrieve and process: 4 tiles\n",
      "001 tile_0_0                       finished\n",
      "002 tile_0_1                       finished\n",
      "003 tile_1_0                       finished\n",
      "004 tile_1_1                       finished\n"
     ]
    }
   ],
   "source": [
    "# Initialize the pipeline\n",
    "fe_macro = MacroPipeline()\n",
    "\n",
    "# Determine which tiles and extract tile index numbers\n",
    "tiles = [t.name for t in path_retiled.glob('tile_*_*/')]\n",
    "tile_indices = [[int(n) for n in t.split('_')[1:]] for t in tiles]\n",
    "print('Retrieve and process: {} tiles'.format(len(tile_indices)))\n",
    "\n",
    "# add pipeline list to macro-pipeline object and set the corresponding labels\n",
    "fe_macro.tasks = [DataProcessing(t, tile_index=idx).config(feature_extraction_input)\n",
    "               for t, idx in zip(tiles, tile_indices)]\n",
    "fe_macro.set_labels(tiles)\n",
    "\n",
    "fe_macro.setup_cluster(cluster=cluster)\n",
    "\n",
    "# run!\n",
    "fe_macro.run()\n",
    "fe_macro.print_outcome()"
   ]
  },
  {
   "cell_type": "markdown",
   "metadata": {},
   "source": [
    "Now we can also see the results of the four features are generated under `path_targets`."
   ]
  },
  {
   "cell_type": "code",
   "execution_count": 13,
   "metadata": {},
   "outputs": [
    {
     "data": {
      "text/plain": [
       "[PosixPath('feature_extraction/targets/entropy_normalized_height'),\n",
       " PosixPath('feature_extraction/targets/perc_95_normalized_height'),\n",
       " PosixPath('feature_extraction/targets/point_density'),\n",
       " PosixPath('feature_extraction/targets/pulse_penetration_ratio')]"
      ]
     },
     "execution_count": 13,
     "metadata": {},
     "output_type": "execute_result"
    }
   ],
   "source": [
    "[f for f in path_targets.rglob('*') if f.is_dir()]"
   ]
  },
  {
   "cell_type": "markdown",
   "metadata": {},
   "source": [
    "## Step 3: GeoTIFF Export\n",
    "\n",
    "At last, we can export the extracted features from the target points to GeoTIFF files.\n",
    "\n",
    "First we need to setup the paths and input dictionary."
   ]
  },
  {
   "cell_type": "code",
   "execution_count": 14,
   "metadata": {},
   "outputs": [],
   "source": [
    "# dCache path where to copy the GeoTIFF files\n",
    "gw_out_path = pathlib.Path('./geotiffs')\n",
    "\n",
    "# setup input dictionary to configure the GeoTIFF export pipeline\n",
    "geotiff_export_input = {\n",
    "    'setup_local_fs': {'input_folder': path_targets.as_posix(),\n",
    "                       'output_folder': gw_out_path.as_posix()},\n",
    "    'parse_point_cloud': {},\n",
    "    'data_split': [1, 1],\n",
    "    'create_subregion_geotiffs': {'output_handle': 'geotiff'}\n",
    "}\n",
    "\n",
    "# write input dictionary to JSON file\n",
    "with open('geotiff_export.json', 'w') as f:\n",
    "    json.dump(geotiff_export_input, f)"
   ]
  },
  {
   "cell_type": "markdown",
   "metadata": {},
   "source": [
    "Then we can execute the pipeline to export the geotiffs. "
   ]
  },
  {
   "cell_type": "code",
   "execution_count": 15,
   "metadata": {},
   "outputs": [
    {
     "name": "stdout",
     "output_type": "stream",
     "text": [
      "001 perc_95_normalized_height      finished\n",
      "002 pulse_penetration_ratio        finished\n",
      "003 entropy_normalized_height      finished\n",
      "004 point_density                  finished\n"
     ]
    }
   ],
   "source": [
    "macro_geotiff = MacroPipeline()\n",
    "\n",
    "# add pipeline list to macro-pipeline object and set the corresponding labels\n",
    "macro_geotiff.tasks = [GeotiffWriter(input_dir=feature, bands=feature).config(geotiff_export_input)\n",
    "               for feature in features]\n",
    "macro_geotiff.set_labels(features)\n",
    "\n",
    "macro_geotiff.setup_cluster(cluster=cluster)\n",
    "\n",
    "# run!\n",
    "macro_geotiff.run()\n",
    "macro_geotiff.print_outcome()"
   ]
  },
  {
   "cell_type": "markdown",
   "metadata": {},
   "source": [
    "We can also visualize one of the geotiff we created using `rioxarray`."
   ]
  },
  {
   "cell_type": "code",
   "execution_count": 16,
   "metadata": {},
   "outputs": [
    {
     "data": {
      "image/png": "[encoded data removed]",
      "text/plain": [
       "<Figure size 2000x1000 with 4 Axes>"
      ]
     },
     "metadata": {},
     "output_type": "display_data"
    }
   ],
   "source": [
    "# import rasterio\n",
    "import rioxarray\n",
    "import xarray as xr\n",
    "from matplotlib import pyplot as plt\n",
    "\n",
    "f_height = 'geotiffs/geotiff_TILE_000_BAND_entropy_normalized_height.tif'\n",
    "f_density = 'geotiff_TILE_000_BAND_point_density.tif' \n",
    "plt.figure(figsize=(20, 10))\n",
    "plt.subplot(1,2,1)\n",
    "da = rioxarray.open_rasterio(f_height)\n",
    "xr.plot.imshow(da[0])\n",
    "plt.xlim([88550, 88700])\n",
    "plt.ylim([458450, 458600])\n",
    "plt.title('Entropy Normalized Height')\n",
    "\n",
    "\n",
    "plt.subplot(1,2,2)\n",
    "da = rioxarray.open_rasterio(f_height)\n",
    "xr.plot.imshow(da[0])\n",
    "plt.xlim([88550, 88700])\n",
    "plt.ylim([458450, 458600])\n",
    "plt.title('Point Density')\n",
    "\n",
    "plt.show()"
   ]
  },
  {
   "cell_type": "markdown",
   "metadata": {},
   "source": [
    "### Terminate cluster\n",
    "\n",
    "At the end of this tutorial, the cluster can be closed by:"
   ]
  },
  {
   "cell_type": "code",
   "execution_count": 17,
   "metadata": {},
   "outputs": [],
   "source": [
    "cluster.close()"
   ]
  }
 ],
 "metadata": {
  "kernelspec": {
   "display_name": "Python 3",
   "language": "python",
   "name": "python3"
  },
  "language_info": {
   "codemirror_mode": {
    "name": "ipython",
    "version": 3
   },
   "file_extension": ".py",
   "mimetype": "text/x-python",
   "name": "python",
   "nbconvert_exporter": "python",
   "pygments_lexer": "ipython3",
   "version": "3.9.7"
  }
 },
 "nbformat": 4,
 "nbformat_minor": 4
}
